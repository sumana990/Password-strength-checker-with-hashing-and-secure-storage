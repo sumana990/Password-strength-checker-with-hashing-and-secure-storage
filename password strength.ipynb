{
 "cells": [
  {
   "cell_type": "code",
   "execution_count": 1,
   "id": "d4c5169b-ddbf-47e5-891b-3375df7ae147",
   "metadata": {},
   "outputs": [
    {
     "name": "stdout",
     "output_type": "stream",
     "text": [
      "Defaulting to user installation because normal site-packages is not writeable\n",
      "Requirement already satisfied: bcrypt in c:\\programdata\\anaconda3\\lib\\site-packages (3.2.0)\n",
      "Requirement already satisfied: nltk in c:\\programdata\\anaconda3\\lib\\site-packages (3.9.1)\n",
      "Requirement already satisfied: cffi>=1.1 in c:\\programdata\\anaconda3\\lib\\site-packages (from bcrypt) (1.17.1)\n",
      "Requirement already satisfied: six>=1.4.1 in c:\\programdata\\anaconda3\\lib\\site-packages (from bcrypt) (1.16.0)\n",
      "Requirement already satisfied: click in c:\\programdata\\anaconda3\\lib\\site-packages (from nltk) (8.1.7)\n",
      "Requirement already satisfied: joblib in c:\\programdata\\anaconda3\\lib\\site-packages (from nltk) (1.4.2)\n",
      "Requirement already satisfied: regex>=2021.8.3 in c:\\programdata\\anaconda3\\lib\\site-packages (from nltk) (2024.9.11)\n",
      "Requirement already satisfied: tqdm in c:\\programdata\\anaconda3\\lib\\site-packages (from nltk) (4.66.5)\n",
      "Requirement already satisfied: pycparser in c:\\programdata\\anaconda3\\lib\\site-packages (from cffi>=1.1->bcrypt) (2.21)\n",
      "Requirement already satisfied: colorama in c:\\programdata\\anaconda3\\lib\\site-packages (from click->nltk) (0.4.6)\n"
     ]
    }
   ],
   "source": [
    "!pip install bcrypt nltk\n"
   ]
  },
  {
   "cell_type": "code",
   "execution_count": 3,
   "id": "c28d201c-1eda-4f64-9499-aecd6c3cf8b5",
   "metadata": {},
   "outputs": [
    {
     "name": "stderr",
     "output_type": "stream",
     "text": [
      "[nltk_data] Downloading package words to\n",
      "[nltk_data]     C:\\Users\\baida\\AppData\\Roaming\\nltk_data...\n",
      "[nltk_data]   Package words is already up-to-date!\n"
     ]
    }
   ],
   "source": [
    "import re\n",
    "import bcrypt\n",
    "import random\n",
    "import string\n",
    "from nltk.corpus import words\n",
    "\n",
    "# Download the word list (if not already downloaded)\n",
    "import nltk\n",
    "nltk.download('words')\n",
    "\n",
    "# Load English words to prevent dictionary passwords\n",
    "ENGLISH_WORDS = set(words.words())\n",
    "\n",
    "# Common weak passwords list\n",
    "COMMON_PASSWORDS = [\"password\", \"123456\", \"qwerty\", \"abc123\", \"password1\"]\n"
   ]
  },
  {
   "cell_type": "code",
   "execution_count": 5,
   "id": "603bbb83-bc34-4cce-81e8-330f9b20193c",
   "metadata": {},
   "outputs": [],
   "source": [
    "def check_password_strength(password):\n",
    "    \"\"\"Checks if a password is strong based on defined security criteria.\"\"\"\n",
    "    if len(password) < 12:\n",
    "        return \"Weak: Password should be at least 12 characters long.\"\n",
    "\n",
    "    if re.search(r'(.)\\1{3,}', password):  # Avoid repeated characters (aaa, 1111)\n",
    "        return \"Weak: Avoid repeated characters.\"\n",
    "\n",
    "    if not re.search(r'[A-Z]', password):\n",
    "        return \"Weak: Password should contain at least one uppercase letter.\"\n",
    "\n",
    "    if not re.search(r'[a-z]', password):\n",
    "        return \"Weak: Password should contain at least one lowercase letter.\"\n",
    "\n",
    "    if not re.search(r'\\d', password):\n",
    "        return \"Weak: Password should contain at least one number.\"\n",
    "\n",
    "    if not re.search(r'[!@#$%^&*(),.?\":{}|<>]', password):\n",
    "        return \"Weak: Password should contain at least one special character.\"\n",
    "\n",
    "    if password.lower() in COMMON_PASSWORDS:\n",
    "        return \"Weak: This is a commonly used password, choose another one.\"\n",
    "\n",
    "    if password.lower() in ENGLISH_WORDS:\n",
    "        return \"Weak: Avoid using dictionary words.\"\n",
    "\n",
    "    return \"Strong: Your password is highly secure!\"\n"
   ]
  },
  {
   "cell_type": "code",
   "execution_count": 7,
   "id": "112fc62f-6227-429d-92d2-02375ded9ffd",
   "metadata": {},
   "outputs": [],
   "source": [
    "def hash_password(password):\n",
    "    \"\"\"Hashes a password using bcrypt for secure storage.\"\"\"\n",
    "    salt = bcrypt.gensalt()\n",
    "    hashed_password = bcrypt.hashpw(password.encode(), salt)\n",
    "    return hashed_password\n",
    "\n",
    "def verify_password(stored_hash, password):\n",
    "    \"\"\"Verifies if the entered password matches the stored hash.\"\"\"\n",
    "    return bcrypt.checkpw(password.encode(), stored_hash)\n"
   ]
  },
  {
   "cell_type": "code",
   "execution_count": 9,
   "id": "77bc2ab2-81cb-40af-a4b9-c6af0216d882",
   "metadata": {},
   "outputs": [
    {
     "name": "stdout",
     "output_type": "stream",
     "text": [
      "Generated Strong Password: ~c?DWJ9>eZ&1_)Ee\n"
     ]
    }
   ],
   "source": [
    "def generate_password(length=16):\n",
    "    \"\"\"Generates a strong password with uppercase, lowercase, numbers, and symbols.\"\"\"\n",
    "    all_chars = string.ascii_letters + string.digits + string.punctuation\n",
    "    return ''.join(random.choice(all_chars) for _ in range(length))\n",
    "\n",
    "# Example usage:\n",
    "print(\"Generated Strong Password:\", generate_password(16))\n"
   ]
  },
  {
   "cell_type": "code",
   "execution_count": 11,
   "id": "2e01166e-6266-4497-a643-4b8d9776ee33",
   "metadata": {},
   "outputs": [
    {
     "name": "stdin",
     "output_type": "stream",
     "text": [
      "Enter a password to check its strength:  123!Weschju6%\n"
     ]
    },
    {
     "name": "stdout",
     "output_type": "stream",
     "text": [
      "Strong: Your password is highly secure!\n",
      "Hashed Password (bcrypt): $2b$12$DM2PBkvVdg3v.c3rih/Etu2iDOrNcF1WrWCcM6e3bXWJvsC1J9QnC\n"
     ]
    }
   ],
   "source": [
    "password = input(\"Enter a password to check its strength: \")\n",
    "result = check_password_strength(password)\n",
    "print(result)\n",
    "\n",
    "if \"Strong\" in result:\n",
    "    hashed_pw = hash_password(password)\n",
    "    print(f\"Hashed Password (bcrypt): {hashed_pw.decode()}\")  # Decoding for readability\n"
   ]
  },
  {
   "cell_type": "code",
   "execution_count": null,
   "id": "7328424b-2b44-47c4-b2e4-31edab7aee68",
   "metadata": {},
   "outputs": [],
   "source": []
  }
 ],
 "metadata": {
  "kernelspec": {
   "display_name": "Python [conda env:base] *",
   "language": "python",
   "name": "conda-base-py"
  },
  "language_info": {
   "codemirror_mode": {
    "name": "ipython",
    "version": 3
   },
   "file_extension": ".py",
   "mimetype": "text/x-python",
   "name": "python",
   "nbconvert_exporter": "python",
   "pygments_lexer": "ipython3",
   "version": "3.12.7"
  }
 },
 "nbformat": 4,
 "nbformat_minor": 5
}
